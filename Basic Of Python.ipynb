{
 "cells": [
  {
   "cell_type": "markdown",
   "metadata": {},
   "source": [
    "#  KEYWORDS\n",
    "\n",
    "\n",
    "Keywords are the reserved words in Python."
   ]
  },
  {
   "cell_type": "code",
   "execution_count": 9,
   "metadata": {},
   "outputs": [],
   "source": [
    "#We cannot use a keyword as a variable name, function name or any other identifier. \n",
    "#They are used to define the syntax and structure of the Python language.\n",
    "\n",
    "#In Python, keywords are case sensitive.\n",
    "\n",
    "#There are 33 keywords in Python 3.7. This number can vary slightly over the course of time.\n",
    "\n",
    "#All the keywords except True, False and None are in lowercase.\n"
   ]
  },
  {
   "cell_type": "markdown",
   "metadata": {},
   "source": [
    "# IDENTIFIERS\n",
    "\n",
    "An identifier is a name given to entities like class, functions, variables, etc. It helps to differentiate one entity from another."
   ]
  },
  {
   "cell_type": "code",
   "execution_count": 4,
   "metadata": {},
   "outputs": [],
   "source": [
    "#Identifiers can be a combination of letters in lowercase (a to z) or uppercase (A to Z) or digits (0 to 9) or an underscore _. \n",
    "#Names like myClass, var_1 and print_this_to_screen, all are valid example.\n",
    "\n",
    "#An identifier cannot start with a digit. 1variable is invalid, but variable1 is a valid name.\n",
    "\n",
    "#Keywords cannot be used as identifiers.\n",
    "#global = 1\n",
    "\n",
    "#We cannot use special symbols like !, @, #, $, % etc. in our identifier.\n",
    "#a@ = 0"
   ]
  },
  {
   "cell_type": "markdown",
   "metadata": {},
   "source": [
    "# VARIABLES\n"
   ]
  },
  {
   "cell_type": "markdown",
   "metadata": {},
   "source": [
    "A variable is a memory address that can change. Variable is a name of the memory location where data is stored. Once a variable is stored, the space is allocated in memory. It defines a variable using a combination of numbers, letters, and the underscore character."
   ]
  },
  {
   "cell_type": "code",
   "execution_count": null,
   "metadata": {},
   "outputs": [],
   "source": [
    "a=5\n",
    "\n",
    "b=8\n",
    "\n",
    "\n",
    "#We can assign a single value to multiple variables as follows\n",
    "\n",
    "a = b = c = 5\n",
    "\n",
    "\n",
    "#Also, we can assign multiple values to multiple variables as follows\n",
    "\n",
    "a, b, c = 2, 25, ‘abc’"
   ]
  },
  {
   "cell_type": "markdown",
   "metadata": {},
   "source": [
    "### RULES FOR VARIABLES"
   ]
  },
  {
   "cell_type": "code",
   "execution_count": null,
   "metadata": {},
   "outputs": [],
   "source": [
    "#Python does not have a specific command just to declare or create a variable; however, there are some rules that we need to keep in mind while creating Python variables.\n",
    "\n",
    "#Name of a variable cannot start with a number. It should start with either an alphabet or the underscore character.\n",
    "\n",
    "#Variable names are always case sensitive and can contain alphanumeric characters and the underscore character.\n",
    "\n",
    "#Reserved words cannot be used as variable names.\n",
    "\n",
    "#Python Variables are always assigned using the equal to sign followed by the value of the variable"
   ]
  },
  {
   "cell_type": "markdown",
   "metadata": {},
   "source": [
    "# CONSTANTS\n",
    "\n",
    "When the memory address cannot change then that variable is known as a constant.\n",
    "\n",
    "\n",
    "A constant is a type of variable that holds values, which cannot be changed. In reality, we rarely use constants in Python. Constants are usually declared and assigned on a different module/file.\n",
    "Example:"
   ]
  },
  {
   "cell_type": "code",
   "execution_count": null,
   "metadata": {},
   "outputs": [],
   "source": [
    "#Declare constants in a separate file called constant.py\n",
    "\n",
    "PI = 3.14\n",
    "GRAVITY = 9.8"
   ]
  },
  {
   "cell_type": "markdown",
   "metadata": {},
   "source": [
    "# BOOLEAN DATATYPE\n",
    "\n",
    "\n",
    "Booleans represent one of two values: True or False."
   ]
  },
  {
   "cell_type": "code",
   "execution_count": 10,
   "metadata": {},
   "outputs": [],
   "source": [
    "#Boolean Values\n",
    "#In programming you often need to know if an expression is True or False.\n",
    "\n",
    "#You can evaluate any expression in Python, and get one of two answers, True or False.\n",
    "\n",
    "#When you compare two values, the expression is evaluated and Python returns the Boolean answer"
   ]
  },
  {
   "cell_type": "markdown",
   "metadata": {},
   "source": [
    "# BITWISE OPERATORS"
   ]
  },
  {
   "cell_type": "markdown",
   "metadata": {},
   "source": [
    "Python bitwise operators are used to perform bitwise calculations on integers. The integers are converted into binary format and then operations are performed bit by bit, hence the name bitwise operators.\n",
    "\n",
    "Python bitwise operators work on integers only and the final output is returned in the decimal format. Python bitwise operators are also called binary operators"
   ]
  },
  {
   "cell_type": "code",
   "execution_count": 21,
   "metadata": {},
   "outputs": [
    {
     "name": "stdout",
     "output_type": "stream",
     "text": [
      "2\n",
      "15\n",
      "13\n",
      "-11\n",
      "40\n",
      "5\n"
     ]
    }
   ],
   "source": [
    "# & Bitwise AND Operator\n",
    "print(10 & 7)                      #= 2\n",
    "\n",
    "# | Bitwise OR Operator\n",
    "print(10 | 7)                     #= 15\n",
    "\n",
    "# ^ Bitwise XOR Operator\n",
    "print(10 ^ 7)                   #= 13\n",
    "\n",
    "# ~ Bitwise Ones’ Compliment Operator\n",
    "print(~10)                      #= -11\n",
    "\n",
    "# << Bitwise Left Shift operator\n",
    "print(10<<2)                     #= 40\n",
    "\n",
    "# >> Bitwise Right Shift Operator\n",
    "print(10>>1)                    #= 5\n"
   ]
  },
  {
   "cell_type": "markdown",
   "metadata": {},
   "source": [
    "# START    STOP    STEP"
   ]
  },
  {
   "cell_type": "code",
   "execution_count": 16,
   "metadata": {},
   "outputs": [
    {
     "name": "stdout",
     "output_type": "stream",
     "text": [
      "[1, 2, 3, 4, 5]\n",
      "[3, 4, 5, 6, 7, 8]\n",
      "[3, 4, 5]\n",
      "[3, 5, 7]\n"
     ]
    }
   ],
   "source": [
    "a = [1, 2, 3, 4, 5, 6, 7, 8,9,10,11,12,13,14,15,16]\n",
    "print(a[:5])    \n",
    "print(a[2:])    \n",
    "print(a[2:5])   \n",
    "print(a[2:7:2])"
   ]
  },
  {
   "cell_type": "code",
   "execution_count": null,
   "metadata": {},
   "outputs": [],
   "source": []
  }
 ],
 "metadata": {
  "kernelspec": {
   "display_name": "Python 3",
   "language": "python",
   "name": "python3"
  },
  "language_info": {
   "codemirror_mode": {
    "name": "ipython",
    "version": 3
   },
   "file_extension": ".py",
   "mimetype": "text/x-python",
   "name": "python",
   "nbconvert_exporter": "python",
   "pygments_lexer": "ipython3",
   "version": "3.7.4"
  }
 },
 "nbformat": 4,
 "nbformat_minor": 2
}
